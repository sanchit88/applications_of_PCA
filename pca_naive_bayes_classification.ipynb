{
 "cells": [
  {
   "cell_type": "code",
   "execution_count": 1,
   "metadata": {},
   "outputs": [],
   "source": [
    "%load_ext autoreload\n",
    "%autoreload 2"
   ]
  },
  {
   "cell_type": "code",
   "execution_count": 2,
   "metadata": {},
   "outputs": [],
   "source": [
    "import math\n",
    "import numpy as np \n",
    "from sklearn.datasets import load_wine\n",
    "import pandas as pd \n",
    "import matplotlib.pyplot as plt\n",
    "from sklearn.model_selection import train_test_split \n",
    "from sklearn.metrics import classification_report, confusion_matrix"
   ]
  },
  {
   "cell_type": "markdown",
   "metadata": {},
   "source": [
    "#### PCA feature extraction \n",
    "Goal here is to make the features un-correlated (i.e., projected in the eigen-basis) so that Naive Bayes classifier can be applied"
   ]
  },
  {
   "cell_type": "code",
   "execution_count": 3,
   "metadata": {},
   "outputs": [],
   "source": [
    "class PCA_feat_extract:\n",
    "    \n",
    "    def __init__(self, data_mat, is_subtract_mean=True):\n",
    "        \"\"\" Implementation of Princial Component Analysis technique \n",
    "            :param data_mat: data matrix which is assumed to be of 'num_samples x num_feats' format \n",
    "            :param is_subtract_mean: whether to remove mean from each feature \n",
    "        \"\"\"\n",
    "        self.is_subtract_mean = is_subtract_mean\n",
    "        if self.is_subtract_mean:\n",
    "            # save the mean values since it is going to used later for reconstruction\n",
    "            print(\"subtracting mean from data matrix...\")\n",
    "            self.data_mat_means = data_mat.mean(axis=0)\n",
    "            data_mat -= self.data_mat_means\n",
    "        self.data_mat = data_mat.T\n",
    "        print(f\"shape of the data matrix (num_feats x num_samples) {self.data_mat.shape}\")\n",
    "        \n",
    "    def compute_cov(self, is_plot_cov=True):\n",
    "        \"\"\" Compute covariance matrix of a data matrix \n",
    "            :param is_plot_cov: whether to plot covariance matrix\n",
    "        \"\"\"\n",
    "        print(\"computing covariance matrix...\")\n",
    "        self.cov_mat = np.cov(self.data_mat)\n",
    "        \n",
    "        if is_plot_cov:\n",
    "            self._plot_cov(self.cov_mat)\n",
    "            \n",
    "    def _plot_cov(self, cov_mat):\n",
    "        \"\"\" Plot covariance matrix \"\"\"\n",
    "        print(f\"plotting covariance matrix with dim: {cov_mat.shape}...\")\n",
    "        plt.imshow(cov_mat)\n",
    "        plt.title(\"Covariance matrix\")\n",
    "        plt.colorbar()\n",
    "        plt.show()\n",
    "            \n",
    "    def _sort_eigen_descend(self, eigen_vals, eigen_vecs):\n",
    "        \"\"\" Sort eigenvalue and eigenvetor matrices according to eigenvalues in a descending order \"\"\" \n",
    "        print(\"sorting eigenvalue and eigenvector according to eigenvalues in a descending order...\")\n",
    "        # get the indices in descending order from eigen values\n",
    "        inds_descend = np.flip(np.argsort(eigen_vals))\n",
    "        \n",
    "        # in the same order, sort eigen values and eigen vectors\n",
    "        eigen_vals = eigen_vals[inds_descend]\n",
    "        eigen_vecs = eigen_vecs[:, inds_descend] \n",
    "        \n",
    "        return eigen_vals, eigen_vecs\n",
    "\n",
    "    def compute_eigen(self):\n",
    "        \"\"\" Computes eigenvalues and eigenvectors of a covariance matrix and sort them \n",
    "            according to the eigenvalues in a descending order \n",
    "        \"\"\"\n",
    "        print(\"computing eigenvalues and eigenvectors of a covariance matrix...\")\n",
    "        # compute eigenvalues and eigenvectors\n",
    "        eigen_vals, eigen_vecs = np.linalg.eig(self.cov_mat)\n",
    "        \n",
    "        # sort both according to eigen values in a descending order \n",
    "        self.eigen_vals, self.eigen_vecs = self._sort_eigen_descend(eigen_vals, eigen_vecs)\n",
    "        \n",
    "        # plot eigenvalues (explained variances) in a descending and cumulative plot     \n",
    "        tot_val = sum(self.eigen_vals)\n",
    "        var_vals = [(var_val/tot_val) for var_val in self.eigen_vals]\n",
    "        cum_var_vals = np.cumsum(var_vals)\n",
    "\n",
    "        plt.figure(figsize=(10, 7))\n",
    "        plt.bar(range(1, self.cov_mat.shape[0]+1), var_vals, alpha=0.5, \n",
    "                label='explained variance of each component')\n",
    "        plt.step(range(1, self.cov_mat.shape[0]+1), cum_var_vals, \n",
    "                 label='explained variance of each component')\n",
    "\n",
    "        plt.title(\"variance explained by components\")\n",
    "        plt.xlabel(\"principal components\")\n",
    "        plt.ylabel(\"explained variance\")\n",
    "        plt.xlim(0, self.cov_mat.shape[0])\n",
    "        plt.ylim(0, 1)\n",
    "        plt.legend(loc='upper left')\n",
    "        plt.grid(linestyle='--')\n",
    "        plt.show()\n",
    "            \n",
    "    def transform_train_data(self, num_comps=10, is_plot_cov=True):\n",
    "        \"\"\" Compute projected data matrix using the number of components \n",
    "            :param num_comps: number of highest eigenvectors to keep \n",
    "            :param is_plot_cov: whether to plot covariance matrix of the projected data matrix \n",
    "        \"\"\"\n",
    "        if num_comps > self.cov_mat.shape[0]:\n",
    "            print(f\"max number of components possible is {self.cov_mat.shape[0]} and provided is {num_comps}\")\n",
    "            num_comps = self.cov_mat.shape[0] \n",
    "            \n",
    "        print(f\"computing projected data matrix acc to number of components {num_comps} to keep...\")\n",
    "        # project the original data matrix onto (reduced) eigen vectors \n",
    "        self.eigen_vecs_basis = self.eigen_vecs[:, :num_comps] \n",
    "        self.proj_data_mat = np.dot(self.eigen_vecs_basis.T, self.data_mat)\n",
    "        \n",
    "        # plot the covariance of the project data matrix. Note: it should be diagonal and each \n",
    "        # diagonal elements should be in descending order \n",
    "        if is_plot_cov:\n",
    "            cov_mat = np.cov(self.proj_data_mat)\n",
    "            self._plot_cov(cov_mat)\n",
    "        print(f\"shape of the projected data matrix: {self.proj_data_mat.shape}\")\n",
    "        \n",
    "        # return the projected data of shape: num_samples x num_feats \n",
    "        return self.proj_data_mat.T\n",
    "    \n",
    "    def transform_test_data(self, data_to_proj):\n",
    "        \"\"\" Project data matrix to the eigen basis \"\"\"\n",
    "        proj_data_mat = np.dot(self.eigen_vecs_basis.T, data_to_proj.T)\n",
    "        return proj_data_mat.T"
   ]
  },
  {
   "cell_type": "markdown",
   "metadata": {},
   "source": [
    "#### Naive Bayes classifier with Gaussian distribution"
   ]
  },
  {
   "cell_type": "code",
   "execution_count": 4,
   "metadata": {},
   "outputs": [],
   "source": [
    "class NaiveBayesGauss:\n",
    "    \"\"\" Naive Bayes classification using Gaussian distribution \"\"\"\n",
    "    \n",
    "    def __init__(self):\n",
    "        self.class_prior = {} \n",
    "        self.train_params = {} \n",
    "    \n",
    "    def _compute_params(self, feat_df):\n",
    "        \"\"\" compute training parameters: mean and std per feature \"\"\"\n",
    "        training_params = {}\n",
    "        \n",
    "        # compute mean and std per column (i.e., feature)\n",
    "        mean_vec = feat_df.mean()\n",
    "        mean_vec = mean_vec.drop(\"labels\").to_dict()\n",
    "        \n",
    "        std_vec = feat_df.std() \n",
    "        std_vec = std_vec.drop(\"labels\").to_dict() \n",
    "        \n",
    "        for key, val in mean_vec.items():\n",
    "            training_params[key] = (val, std_vec[key])\n",
    "        \n",
    "        return training_params\n",
    "    \n",
    "    def fit(self, X_train, y_train, show_samples=True):\n",
    "        \"\"\" train a Naive Bayes classifier with Gaussian distribution \n",
    "        :param X_train: training data in the format (num_samples x num_features)\n",
    "        :param y_train: a list of labels for the corresponding samples \n",
    "        \"\"\"\n",
    "        # create a pandas dataframe \n",
    "        num_samples, num_feats = X_train.shape \n",
    "        data_mat = np.column_stack((X_train, y_train))\n",
    "        self.cols = [\"feat\" + str(i+1) for i in range(num_feats)] + [\"labels\"] \n",
    "        df = pd.DataFrame(data=data_mat, columns=self.cols)\n",
    "        if show_samples:\n",
    "            print(\"training data \\n\", df.head())\n",
    "        \n",
    "        # compute class priors and training params (mean and std) per feature per class \n",
    "        for label, feats_per_class in df.groupby('labels'):\n",
    "            print(f\"number of samples per class ({label}): {len(feats_per_class)}\")\n",
    "            self.class_prior[int(label)] = round(len(feats_per_class) / num_samples, 3) \n",
    "            self.train_params[int(label)] = self._compute_params(feats_per_class)\n",
    "        \n",
    "    def _compute_prob(self, x, label, feat_id):\n",
    "        \"\"\" compute a Gaussian probability for a given feature value and for a given class label. \n",
    "            Gaussian parameters (mean and std) are computed from the training data \n",
    "        \"\"\"\n",
    "        feat_mean = self.train_params[label][self.cols[feat_id]][0]\n",
    "        feat_std = self.train_params[label][self.cols[feat_id]][1] \n",
    "        \n",
    "        exp_part = math.exp(-((x-feat_mean)**2 / (2 * feat_std**2 )))\n",
    "        gauss_prob = (1 / (math.sqrt(2 * math.pi) * feat_std)) * exp_part\n",
    "        return gauss_prob\n",
    "    \n",
    "    def _compute_likelihood_prob(self, feat_vec, label):\n",
    "        \"\"\" compute a likelihood prob which is a product of probabilities of each feature variable for a given class label \"\"\"\n",
    "        likelihood_probs = [self._compute_prob(feat, label, feat_id) for feat_id, feat in enumerate(feat_vec)]\n",
    "        return np.prod(likelihood_probs)\n",
    "    \n",
    "    def predict(self, X_test):\n",
    "        \"\"\" prediction on a given test data \n",
    "        :param X_test: numpy array containing samples of feature vectors \n",
    "        :return predict_vals: predicted label and probabilities \n",
    "        \"\"\"\n",
    "        # convert numpy array to a list of lists\n",
    "        X_test = X_test.tolist() \n",
    "        predict_vals = {\"probs\": [], \"labels\": []}\n",
    "        \n",
    "        # compute max posterior prob for each sample \n",
    "        for ind, sample in enumerate(X_test):\n",
    "            \n",
    "            # compute posterior probabilities for each class and pick the max one as final class label \n",
    "            predict_prob = -1\n",
    "            predict_label = -1\n",
    "            norm_constant = 0.0 \n",
    "            for label, prior_prob in self.class_prior.items():\n",
    "                # compute likelihood prob which is a product of probs of each feature \n",
    "                likelihood_prob = self._compute_likelihood_prob(sample, label)\n",
    "                \n",
    "                # compute posterior distrition as multiplication of prior and likelihood. Note: normalization constant \n",
    "                # since we will compute the max prob afterwards \n",
    "                post_prob = prior_prob * likelihood_prob \n",
    "                \n",
    "                # compute normalization constant \n",
    "                norm_constant += post_prob \n",
    "                if post_prob > predict_prob:\n",
    "                    predict_prob = post_prob \n",
    "                    predict_label = label \n",
    "                    \n",
    "            print(f\"predicted label for the {ind}th sample is {predict_label} with probability {predict_prob}\")\n",
    "            predict_vals[\"probs\"].append(predict_prob / norm_constant)\n",
    "            predict_vals[\"labels\"].append(predict_label) \n",
    "            \n",
    "        # return the label with the max probability \n",
    "        return predict_vals"
   ]
  },
  {
   "cell_type": "markdown",
   "metadata": {},
   "source": [
    "#### 1. Load the wine data. Note that this data is not normalized at all. "
   ]
  },
  {
   "cell_type": "code",
   "execution_count": 5,
   "metadata": {},
   "outputs": [],
   "source": [
    "wine_data = load_wine()\n",
    "data = wine_data.data \n",
    "labels = wine_data.target"
   ]
  },
  {
   "cell_type": "markdown",
   "metadata": {},
   "source": [
    "#### 2. First scale the data along each feature to have zero mean and unit variance"
   ]
  },
  {
   "cell_type": "code",
   "execution_count": 6,
   "metadata": {},
   "outputs": [],
   "source": [
    "data = (data - data.mean(axis=0)) / data.std(axis=0)"
   ]
  },
  {
   "cell_type": "markdown",
   "metadata": {},
   "source": [
    "#### 3. Split the data into training and test "
   ]
  },
  {
   "cell_type": "code",
   "execution_count": 7,
   "metadata": {},
   "outputs": [],
   "source": [
    "X_train, X_test, y_train, y_test = train_test_split(data, labels, test_size=0.20, random_state=0)"
   ]
  },
  {
   "cell_type": "markdown",
   "metadata": {},
   "source": [
    "#### 4. Compute un-correlated features using PCA with no diemnsional reduction"
   ]
  },
  {
   "cell_type": "code",
   "execution_count": 8,
   "metadata": {},
   "outputs": [
    {
     "name": "stdout",
     "output_type": "stream",
     "text": [
      "subtracting mean from data matrix...\n",
      "shape of the data matrix (num_feats x num_samples) (13, 142)\n"
     ]
    }
   ],
   "source": [
    "pca_feat = PCA_feat_extract(X_train)"
   ]
  },
  {
   "cell_type": "code",
   "execution_count": 9,
   "metadata": {},
   "outputs": [
    {
     "name": "stdout",
     "output_type": "stream",
     "text": [
      "computing covariance matrix...\n",
      "plotting covariance matrix with dim: (13, 13)...\n"
     ]
    },
    {
     "data": {
      "image/png": "[encoded data removed]",
      "text/plain": [
       "<Figure size 432x288 with 2 Axes>"
      ]
     },
     "metadata": {
      "needs_background": "light"
     },
     "output_type": "display_data"
    },
    {
     "name": "stdout",
     "output_type": "stream",
     "text": [
      "computing eigenvalues and eigenvectors of a covariance matrix...\n",
      "sorting eigenvalue and eigenvector according to eigenvalues in a descending order...\n"
     ]
    },
    {
     "data": {
      "image/png": "[encoded data removed]",
      "text/plain": [
       "<Figure size 720x504 with 1 Axes>"
      ]
     },
     "metadata": {
      "needs_background": "light"
     },
     "output_type": "display_data"
    },
    {
     "name": "stdout",
     "output_type": "stream",
     "text": [
      "computing projected data matrix acc to number of components 2 to keep...\n",
      "plotting covariance matrix with dim: (2, 2)...\n"
     ]
    },
    {
     "data": {
      "image/png": "[encoded data removed]",
      "text/plain": [
       "<Figure size 432x288 with 2 Axes>"
      ]
     },
     "metadata": {
      "needs_background": "light"
     },
     "output_type": "display_data"
    },
    {
     "name": "stdout",
     "output_type": "stream",
     "text": [
      "shape of the projected data matrix: (2, 142)\n"
     ]
    }
   ],
   "source": [
    "pca_feat.compute_cov()\n",
    "\n",
    "pca_feat.compute_eigen()\n",
    "\n",
    "X_train_proj = pca_feat.transform_train_data(num_comps=2) # ncomps=X_train.shape[1] \n",
    "\n",
    "X_test_proj = pca_feat.transform_test_data(X_test)"
   ]
  },
  {
   "cell_type": "code",
   "execution_count": 10,
   "metadata": {},
   "outputs": [
    {
     "name": "stdout",
     "output_type": "stream",
     "text": [
      "shape of the projected X_train: (142, 2) and of the X_test (36, 2)\n"
     ]
    }
   ],
   "source": [
    "print(f\"shape of the projected X_train: {X_train_proj.shape} and of the X_test {X_test_proj.shape}\")"
   ]
  },
  {
   "cell_type": "markdown",
   "metadata": {},
   "source": [
    "#### Naive Bayes classifier"
   ]
  },
  {
   "cell_type": "code",
   "execution_count": 11,
   "metadata": {},
   "outputs": [
    {
     "name": "stdout",
     "output_type": "stream",
     "text": [
      "training data \n",
      "       feat1     feat2  labels\n",
      "0 -2.216277  0.999475     2.0\n",
      "1 -1.769258 -1.613008     1.0\n",
      "2  1.172307 -2.170643     1.0\n",
      "3 -2.601498  1.609546     2.0\n",
      "4  1.866049 -0.257468     0.0\n",
      "number of samples per class (0.0): 45\n",
      "number of samples per class (1.0): 55\n",
      "number of samples per class (2.0): 42\n"
     ]
    }
   ],
   "source": [
    "nb_classifier = NaiveBayesGauss()\n",
    "nb_classifier.fit(X_train_proj, y_train)"
   ]
  },
  {
   "cell_type": "markdown",
   "metadata": {},
   "source": [
    "#### Print the trained parameters"
   ]
  },
  {
   "cell_type": "code",
   "execution_count": 12,
   "metadata": {},
   "outputs": [
    {
     "data": {
      "text/plain": [
       "{0: 0.317, 1: 0.387, 2: 0.296}"
      ]
     },
     "execution_count": 12,
     "metadata": {},
     "output_type": "execute_result"
    }
   ],
   "source": [
    "nb_classifier.class_prior"
   ]
  },
  {
   "cell_type": "code",
   "execution_count": 13,
   "metadata": {},
   "outputs": [
    {
     "data": {
      "text/plain": [
       "{0: {'feat1': (2.352498796660036, 0.8020758329997308),\n",
       "  'feat2': (1.025787619433885, 0.8140334251450175)},\n",
       " 1: {'feat1': (0.13895165342101218, 1.214244886537569),\n",
       "  'feat2': (-1.672536573271403, 0.7979574590450416)},\n",
       " 2: {'feat1': (-2.7024949235204114, 0.6230307958545166),\n",
       "  'feat2': (1.0911683013191038, 1.0088243407185375)}}"
      ]
     },
     "execution_count": 13,
     "metadata": {},
     "output_type": "execute_result"
    }
   ],
   "source": [
    "nb_classifier.train_params"
   ]
  },
  {
   "cell_type": "markdown",
   "metadata": {},
   "source": [
    "#### Perform prediction on test dataset"
   ]
  },
  {
   "cell_type": "code",
   "execution_count": 14,
   "metadata": {
    "scrolled": false
   },
   "outputs": [
    {
     "name": "stdout",
     "output_type": "stream",
     "text": [
      "predicted label for the 0th sample is 0 with probability 0.07329223219610322\n",
      "predicted label for the 1th sample is 2 with probability 0.05513083716370773\n",
      "predicted label for the 2th sample is 1 with probability 0.016361913724542595\n",
      "predicted label for the 3th sample is 0 with probability 0.0681176469261764\n",
      "predicted label for the 4th sample is 1 with probability 0.020659076105899603\n",
      "predicted label for the 5th sample is 0 with probability 0.019191529904477322\n",
      "predicted label for the 6th sample is 0 with probability 0.053971755723550896\n",
      "predicted label for the 7th sample is 2 with probability 0.049821984786683086\n",
      "predicted label for the 8th sample is 1 with probability 0.05077584605537806\n",
      "predicted label for the 9th sample is 1 with probability 0.02820575887300062\n",
      "predicted label for the 10th sample is 2 with probability 0.040554368748737\n",
      "predicted label for the 11th sample is 2 with probability 0.002715632637058397\n",
      "predicted label for the 12th sample is 0 with probability 0.017867753909599302\n",
      "predicted label for the 13th sample is 1 with probability 0.010937031126890026\n",
      "predicted label for the 14th sample is 2 with probability 0.04326167532409599\n",
      "predicted label for the 15th sample is 1 with probability 0.006409124736528231\n",
      "predicted label for the 16th sample is 0 with probability 0.04557896298628528\n",
      "predicted label for the 17th sample is 0 with probability 0.003935151594737943\n",
      "predicted label for the 18th sample is 1 with probability 0.011021940421585304\n",
      "predicted label for the 19th sample is 0 with probability 0.06375764050832872\n",
      "predicted label for the 20th sample is 1 with probability 0.011992615789395682\n",
      "predicted label for the 21th sample is 0 with probability 0.012838345153162302\n",
      "predicted label for the 22th sample is 0 with probability 0.016271243282159696\n",
      "predicted label for the 23th sample is 1 with probability 0.05379388677083906\n",
      "predicted label for the 24th sample is 1 with probability 0.02496574091344843\n",
      "predicted label for the 25th sample is 1 with probability 0.058593209957351906\n",
      "predicted label for the 26th sample is 1 with probability 0.052223822828033686\n",
      "predicted label for the 27th sample is 1 with probability 0.037077030650444605\n",
      "predicted label for the 28th sample is 1 with probability 0.0202769838660746\n",
      "predicted label for the 29th sample is 2 with probability 0.06205753752307163\n",
      "predicted label for the 30th sample is 0 with probability 0.054503601791014385\n",
      "predicted label for the 31th sample is 0 with probability 0.056575729013201154\n",
      "predicted label for the 32th sample is 1 with probability 0.01668565906418658\n",
      "predicted label for the 33th sample is 0 with probability 0.012992695664606443\n",
      "predicted label for the 34th sample is 0 with probability 0.07589113400634304\n",
      "predicted label for the 35th sample is 0 with probability 0.03701384984686934\n"
     ]
    }
   ],
   "source": [
    "predict_vals = nb_classifier.predict(X_test_proj)"
   ]
  },
  {
   "cell_type": "code",
   "execution_count": 18,
   "metadata": {},
   "outputs": [
    {
     "name": "stdout",
     "output_type": "stream",
     "text": [
      "[[14  0  0]\n",
      " [ 1 15  0]\n",
      " [ 0  0  6]]\n"
     ]
    }
   ],
   "source": [
    "conf_mat = confusion_matrix(y_test, predict_vals[\"labels\"])\n",
    "print(conf_mat)"
   ]
  },
  {
   "cell_type": "code",
   "execution_count": 19,
   "metadata": {},
   "outputs": [
    {
     "name": "stdout",
     "output_type": "stream",
     "text": [
      "              precision    recall  f1-score   support\n",
      "\n",
      "           0       0.93      1.00      0.97        14\n",
      "           1       1.00      0.94      0.97        16\n",
      "           2       1.00      1.00      1.00         6\n",
      "\n",
      "   micro avg       0.97      0.97      0.97        36\n",
      "   macro avg       0.98      0.98      0.98        36\n",
      "weighted avg       0.97      0.97      0.97        36\n",
      "\n"
     ]
    }
   ],
   "source": [
    "print(classification_report(y_test, predict_vals[\"labels\"]))"
   ]
  },
  {
   "cell_type": "code",
   "execution_count": 24,
   "metadata": {},
   "outputs": [
    {
     "name": "stdout",
     "output_type": "stream",
     "text": [
      "accuracy rate: 97.222\n"
     ]
    }
   ],
   "source": [
    "acc = 1 - (np.sum(conf_mat) - np.trace(conf_mat))/np.sum(conf_mat)\n",
    "print(f\"accuracy rate: {round(acc*100.0, 3)}\")"
   ]
  }
 ],
 "metadata": {
  "kernelspec": {
   "display_name": "Python 3",
   "language": "python",
   "name": "python3"
  },
  "language_info": {
   "codemirror_mode": {
    "name": "ipython",
    "version": 3
   },
   "file_extension": ".py",
   "mimetype": "text/x-python",
   "name": "python",
   "nbconvert_exporter": "python",
   "pygments_lexer": "ipython3",
   "version": "3.6.8"
  }
 },
 "nbformat": 4,
 "nbformat_minor": 4
}
